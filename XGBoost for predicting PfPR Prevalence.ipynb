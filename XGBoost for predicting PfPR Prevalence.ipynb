{
 "cells": [
  {
   "cell_type": "code",
   "execution_count": 1,
   "metadata": {},
   "outputs": [],
   "source": [
    "#importing library\n",
    "import pandas as pd\n",
    "import scipy.stats as stats\n",
    "import pylab\n",
    "import matplotlib.pyplot as plt\n",
    "import seaborn as sns\n",
    "import scipy.stats as stats\n",
    "import pylab\n",
    "import numpy as np\n",
    "\n",
    "#Importing the various accuracy measures\n",
    "from sklearn.metrics import r2_score\n",
    "from sklearn.metrics import mean_absolute_error\n",
    "from sklearn.metrics import mean_squared_error\n",
    "\n",
    "from pandas import read_csv\n",
    "from sklearn.model_selection import RepeatedKFold\n",
    "from sklearn.model_selection import RandomizedSearchCV\n",
    "from sklearn.model_selection import GridSearchCV, train_test_split\n",
    "from xgboost import XGBRegressor"
   ]
  },
  {
   "cell_type": "code",
   "execution_count": 2,
   "metadata": {},
   "outputs": [],
   "source": [
    "# load datasets\n",
    "train = pd.read_csv('train_kdhs.csv')"
   ]
  },
  {
   "cell_type": "markdown",
   "metadata": {},
   "source": [
    "Define X and y values"
   ]
  },
  {
   "cell_type": "code",
   "execution_count": 3,
   "metadata": {},
   "outputs": [],
   "source": [
    "maskE= train[\"Year\"] == 2015\n",
    "data_2015=train[maskE]\n",
    "data_2015.head()"
   ]
  },
  {
   "cell_type": "code",
   "execution_count": null,
   "metadata": {},
   "outputs": [],
   "source": [
    "X_test = data_2015[['Enhanced_Vegetation_Index', 'Global_Human_Footprint','ITN_Coverage','Mean_Temperature','Proximity_to_Water', 'Rainfall', 'DEM', 'Year']]\n",
    "y_test = data_2015[['Malaria_Prevalence']]"
   ]
  },
  {
   "cell_type": "code",
   "execution_count": null,
   "metadata": {},
   "outputs": [],
   "source": [
    "maskF= train[\"Year\"] < 2015\n",
    "data00_10=train[maskF]"
   ]
  },
  {
   "cell_type": "code",
   "execution_count": null,
   "metadata": {},
   "outputs": [],
   "source": [
    "X_train = data00_10[['Enhanced_Vegetation_Index', 'Global_Human_Footprint','ITN_Coverage','Mean_Temperature','Proximity_to_Water', 'Rainfall', 'DEM', 'Year']]\n",
    "y_train = data00_10[['Malaria_Prevalence']]\n",
    "y_train"
   ]
  },
  {
   "cell_type": "code",
   "execution_count": 7,
   "metadata": {},
   "outputs": [
    {
     "data": {
      "text/plain": [
       "((972, 7), (972,))"
      ]
     },
     "execution_count": 7,
     "metadata": {},
     "output_type": "execute_result"
    }
   ],
   "source": [
    "X_train.shape, y_train.shape"
   ]
  },
  {
   "cell_type": "markdown",
   "metadata": {},
   "source": [
    "### Second Model"
   ]
  },
  {
   "cell_type": "code",
   "execution_count": 27,
   "metadata": {},
   "outputs": [],
   "source": [
    "#Model 2\n",
    "RegModel=XGBRegressor(max_depth=3, learning_rate=0.1, n_estimators=500, objective='reg:linear', booster='gbtree')"
   ]
  },
  {
   "cell_type": "code",
   "execution_count": 28,
   "metadata": {},
   "outputs": [
    {
     "name": "stdout",
     "output_type": "stream",
     "text": [
      "XGBRegressor(base_score=None, booster='gbtree', colsample_bylevel=None,\n",
      "             colsample_bynode=None, colsample_bytree=None, gamma=None,\n",
      "             gpu_id=None, importance_type='gain', interaction_constraints=None,\n",
      "             learning_rate=0.1, max_delta_step=None, max_depth=3,\n",
      "             min_child_weight=None, missing=nan, monotone_constraints=None,\n",
      "             n_estimators=500, n_jobs=None, num_parallel_tree=None,\n",
      "             objective='reg:linear', random_state=None, reg_alpha=None,\n",
      "             reg_lambda=None, scale_pos_weight=None, subsample=None,\n",
      "             tree_method=None, validate_parameters=None, verbosity=None)\n"
     ]
    }
   ],
   "source": [
    "#Printing all the parameters of XGBoost\n",
    "print(RegModel)"
   ]
  },
  {
   "cell_type": "code",
   "execution_count": 30,
   "metadata": {},
   "outputs": [
    {
     "name": "stdout",
     "output_type": "stream",
     "text": [
      "[00:27:11] WARNING: c:\\ci\\xgboost-split_1619728435298\\work\\src\\objective\\regression_obj.cu:170: reg:linear is now deprecated in favor of reg:squarederror.\n"
     ]
    }
   ],
   "source": [
    "#Creating the model on Training Data\n",
    "XGB=RegModel.fit(X_train,y_train)\n",
    "prediction=XGB.predict(X_test)"
   ]
  },
  {
   "cell_type": "code",
   "execution_count": 32,
   "metadata": {},
   "outputs": [
    {
     "name": "stdout",
     "output_type": "stream",
     "text": [
      "R2 Value in training: 0.9824363908033461\n"
     ]
    }
   ],
   "source": [
    "#Measuring Goodness of fit in Training data\n",
    "from sklearn import metrics\n",
    "print('R2 Value in training:',metrics.r2_score(y_train, XGB.predict(X_train)))"
   ]
  },
  {
   "cell_type": "code",
   "execution_count": 33,
   "metadata": {},
   "outputs": [
    {
     "name": "stdout",
     "output_type": "stream",
     "text": [
      "Accuracy 81.09543766987139\n"
     ]
    }
   ],
   "source": [
    "#Measuring accuracy on Testing Data\n",
    "print('Accuracy',100- (np.mean(np.abs((y_test - prediction) / y_test)) * 100))"
   ]
  },
  {
   "cell_type": "code",
   "execution_count": 34,
   "metadata": {},
   "outputs": [],
   "source": [
    "#Calculating the various accuracy measures\n",
    "mae = metrics.mean_absolute_error(y_test, prediction)\n",
    "mse = metrics.mean_squared_error(y_test, prediction)\n",
    "rmse = np.sqrt(mse)\n",
    "r2 = r2_score(y_test, prediction)"
   ]
  },
  {
   "cell_type": "code",
   "execution_count": 35,
   "metadata": {},
   "outputs": [],
   "source": [
    "mape = np.mean(np.abs((y_test - prediction)/y_test))*100"
   ]
  },
  {
   "cell_type": "code",
   "execution_count": 36,
   "metadata": {},
   "outputs": [
    {
     "name": "stdout",
     "output_type": "stream",
     "text": [
      "Results of sklearn.metrics:\n",
      "MAE: 0.0187\n",
      "MSE: 0.0007\n",
      "RMSE: 0.0262\n",
      "R-Squared: 88.6631\n",
      "MAPE: 18.9046\n"
     ]
    }
   ],
   "source": [
    "#printing the accuracy measures, rounded to 4 dp\n",
    "print(\"Results of sklearn.metrics:\")\n",
    "mae = round(mae, 4)\n",
    "mse = round(mse, 4)\n",
    "rmse = round(rmse, 4)\n",
    "r2 = round(r2*100, 4)\n",
    "mape = round(mape, 4)\n",
    "\n",
    "\n",
    "print(\"MAE:\",mae)\n",
    "print(\"MSE:\", mse)\n",
    "print(\"RMSE:\", rmse)\n",
    "print(\"R-Squared:\", r2)\n",
    "print(\"MAPE:\", mape)"
   ]
  },
  {
   "cell_type": "code",
   "execution_count": 37,
   "metadata": {},
   "outputs": [],
   "source": [
    "#Reading the independent variables prepped from ArcMap\n",
    "Ind_Vars15=pd.read_csv(\"New_Ind_Var15.csv\")"
   ]
  },
  {
   "cell_type": "code",
   "execution_count": 38,
   "metadata": {},
   "outputs": [
    {
     "data": {
      "text/plain": [
       "FID                       0\n",
       "OBJECTID                  0\n",
       "pointid                   0\n",
       "LAT                       0\n",
       "LONG                      0\n",
       "Rainfall_15               0\n",
       "LST_15                    0\n",
       "Water_Bodies_Surface      0\n",
       "ITN_Surface15             0\n",
       "GPW_Pop15                 0\n",
       "Global_Human_Footprint    0\n",
       "DEM_Surface               0\n",
       "dtype: int64"
      ]
     },
     "execution_count": 38,
     "metadata": {},
     "output_type": "execute_result"
    }
   ],
   "source": [
    "#Checking if there are null values in the independent variables\n",
    "Ind_Vars15.isnull().sum()"
   ]
  },
  {
   "cell_type": "code",
   "execution_count": 44,
   "metadata": {},
   "outputs": [
    {
     "data": {
      "text/plain": [
       "Index(['Rainfall_2015', 'Land_Surface_Temperature_2015', 'Proximity_to_Water',\n",
       "       'ITN_Coverage_2015', 'UN_Population_Density_2015',\n",
       "       'Global_Human_Footprint', 'DEM'],\n",
       "      dtype='object')"
      ]
     },
     "execution_count": 44,
     "metadata": {},
     "output_type": "execute_result"
    }
   ],
   "source": [
    "#Reading the independent var. points, and coordinates. Converting them to array\n",
    "Predictors_grid = Ind_Vars15[['Rainfall','Mean_Temp','Water_Bodies_Surface','ITN_Surface','GPW_Pop','Global_Human_Footprint','DEM_Surface']]\n",
    "Predictors_grid.columns=['Rainfall_2015','Land_Surface_Temperature_2015','Proximity_to_Water', 'ITN_Coverage_2015','UN_Population_Density_2015','Global_Human_Footprint', 'DEM' ]\n",
    "Predictors_grid.columns"
   ]
  },
  {
   "cell_type": "code",
   "execution_count": 45,
   "metadata": {},
   "outputs": [],
   "source": [
    "grid_coordinates=Ind_Vars15[['LONG','LAT']]"
   ]
  },
  {
   "cell_type": "code",
   "execution_count": 46,
   "metadata": {},
   "outputs": [],
   "source": [
    "#### Run XGB model on the predictor raster values\n",
    "XGB_predictors= XGB.predict(Predictors_grid)\n",
    "##fn=rf_predictors.reshape(val1.shape[1],val1.shape[2])\n",
    "predi_df=pd.DataFrame(XGB_predictors)\n",
    "final_gpd=pd.concat([grid_coordinates,predi_df],axis=1)\n",
    "final_gpd.columns=['LONG','LAT','Predi_15']\n",
    "##print(final_gpd)"
   ]
  },
  {
   "cell_type": "code",
   "execution_count": 47,
   "metadata": {},
   "outputs": [],
   "source": [
    "final_gpd.to_csv(\"XGBPredicted_Malaria_Prevalence.csv\")"
   ]
  }
 ],
 "metadata": {
  "kernelspec": {
   "display_name": "Python 3",
   "language": "python",
   "name": "python3"
  },
  "language_info": {
   "codemirror_mode": {
    "name": "ipython",
    "version": 3
   },
   "file_extension": ".py",
   "mimetype": "text/x-python",
   "name": "python",
   "nbconvert_exporter": "python",
   "pygments_lexer": "ipython3",
   "version": "3.7.3"
  }
 },
 "nbformat": 4,
 "nbformat_minor": 2
}
